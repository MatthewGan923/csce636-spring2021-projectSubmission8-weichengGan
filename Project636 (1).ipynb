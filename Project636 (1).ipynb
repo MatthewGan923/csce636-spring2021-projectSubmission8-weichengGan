{
  "nbformat": 4,
  "nbformat_minor": 0,
  "metadata": {
    "colab": {
      "name": "Project636.ipynb",
      "provenance": [],
      "collapsed_sections": []
    },
    "kernelspec": {
      "display_name": "Python 3",
      "name": "python3"
    },
    "accelerator": "GPU"
  },
  "cells": [
    {
      "cell_type": "markdown",
      "metadata": {
        "id": "X38L6tanrnrB"
      },
      "source": [
        "This is a project for detecting the action of falling"
      ]
    },
    {
      "cell_type": "code",
      "metadata": {
        "colab": {
          "base_uri": "https://localhost:8080/"
        },
        "id": "nZ3Ud9zLgOoQ",
        "outputId": "40924aad-393c-4c5d-c12f-401cf8a267f5"
      },
      "source": [
        "from google.colab import drive\n",
        "drive.mount('/content/drive')"
      ],
      "execution_count": null,
      "outputs": [
        {
          "output_type": "stream",
          "text": [
            "Drive already mounted at /content/drive; to attempt to forcibly remount, call drive.mount(\"/content/drive\", force_remount=True).\n"
          ],
          "name": "stdout"
        }
      ]
    },
    {
      "cell_type": "code",
      "metadata": {
        "id": "sZbwjAj3S1oe"
      },
      "source": [
        "from keras import models\n",
        "from keras import layers\n",
        "from keras import metrics\n",
        "from keras import optimizers\n",
        "from keras.layers import Dense, Dropout, Embedding, LSTM, Bidirectional\n",
        "import keras\n",
        "import numpy as np\n",
        "import json\n",
        "import os\n",
        "import csv\n",
        "import pandas as pd\n",
        "import subprocess\n",
        "import xgboost as xgb"
      ],
      "execution_count": null,
      "outputs": []
    },
    {
      "cell_type": "markdown",
      "metadata": {
        "id": "7XjvbPlKAD6a"
      },
      "source": [
        "# New Section"
      ]
    },
    {
      "cell_type": "markdown",
      "metadata": {
        "id": "2IeZV8FD2Ueb"
      },
      "source": [
        "**Now we are cleaning all the data**"
      ]
    },
    {
      "cell_type": "code",
      "metadata": {
        "id": "IgbCxZCpS9MH"
      },
      "source": [
        "# now we read all the data\n",
        "dataPath = \"/content/drive/MyDrive/Colab Notebooks/data\""
      ],
      "execution_count": null,
      "outputs": []
    },
    {
      "cell_type": "code",
      "metadata": {
        "id": "QgzTWECuGPSy"
      },
      "source": [
        "def readDataFrame(path, totalData, totalLabel):  \n",
        "  total_df = pd.read_csv(path, header=None)\n",
        "  label = total_df.iloc[:, 63]\n",
        "  totalLabel += label.to_list()\n",
        "  # now drop the label column\n",
        "  total_df = total_df.drop(total_df.columns[63], axis = 1)\n",
        "  for index, row in total_df.iterrows():\n",
        "    totalData.append(row.to_list())\n",
        "  return totalData, totalLabel"
      ],
      "execution_count": null,
      "outputs": []
    },
    {
      "cell_type": "code",
      "metadata": {
        "id": "5cFYVruzHWXL"
      },
      "source": [
        "# now we read in all the data\n",
        "Data = []\n",
        "Label = []\n",
        "for itemPath in os.listdir(dataPath):\n",
        "  item = os.path.join(dataPath, itemPath)\n",
        "  Data, Label = readDataFrame(item, Data, Label)\n"
      ],
      "execution_count": null,
      "outputs": []
    },
    {
      "cell_type": "code",
      "metadata": {
        "colab": {
          "base_uri": "https://localhost:8080/"
        },
        "id": "rkmczk-8IxDa",
        "outputId": "5ec2a15c-9bcc-4d92-9805-c2bfab418691"
      },
      "source": [
        "print(\"data length is \" + str(len(Data)))\n",
        "print(\"label length is \" + str(len(Label)))"
      ],
      "execution_count": null,
      "outputs": [
        {
          "output_type": "stream",
          "text": [
            "data length is 56893\n",
            "label length is 56893\n"
          ],
          "name": "stdout"
        }
      ]
    },
    {
      "cell_type": "code",
      "metadata": {
        "colab": {
          "base_uri": "https://localhost:8080/"
        },
        "id": "FM0U3xy_JVcZ",
        "outputId": "e636f5f8-31af-48b0-e252-e23987aa3965"
      },
      "source": [
        "print(\"non falling label: \" + str(Label.count(0)))\n",
        "print(\"falling label: \" + str(Label.count(1)))"
      ],
      "execution_count": null,
      "outputs": [
        {
          "output_type": "stream",
          "text": [
            "non falling label: 53003\n",
            "falling label: 3890\n"
          ],
          "name": "stdout"
        }
      ]
    },
    {
      "cell_type": "code",
      "metadata": {
        "colab": {
          "base_uri": "https://localhost:8080/"
        },
        "id": "DRuBiaJ7Jd6x",
        "outputId": "2c89fbd2-4607-4948-b6c7-d65652d6fe00"
      },
      "source": [
        "# now we need to up-sampling to balance the data\n",
        "totalData = []\n",
        "for i in range(len(Data)):\n",
        "  totalData.append(Data[i])\n",
        "  totalData[i].append(Label[i])    \n",
        "df = pd.DataFrame.from_records(totalData)\n",
        "df = df.rename(columns={df.columns[63]: \"labels\"})\n",
        "fallDf = df[df['labels'] == 1]\n",
        "nonFallDf = df[df['labels'] == 0]\n",
        "from sklearn.utils import resample\n",
        "sampled_fallDf = resample(fallDf, replace = True, n_samples=len(nonFallDf))\n",
        "newData = pd.concat([nonFallDf, sampled_fallDf])\n",
        "newData.labels.value_counts()"
      ],
      "execution_count": null,
      "outputs": [
        {
          "output_type": "execute_result",
          "data": {
            "text/plain": [
              "1    53003\n",
              "0    53003\n",
              "Name: labels, dtype: int64"
            ]
          },
          "metadata": {
            "tags": []
          },
          "execution_count": 9
        }
      ]
    },
    {
      "cell_type": "code",
      "metadata": {
        "colab": {
          "base_uri": "https://localhost:8080/"
        },
        "id": "4HCd6X0DQA_V",
        "outputId": "dddbca96-5a39-4ec3-9114-81d57a3b67b4"
      },
      "source": [
        "\n",
        "# next we shuffle the data and split them\n",
        "totalData = newData.values\n",
        "np.random.shuffle(totalData)\n",
        "test_data = totalData[: len(totalData) // 9]\n",
        "train_data = totalData[len(totalData) // 9:]\n",
        "print(\"train: \" + str(len(train_data)))\n",
        "print(\"test: \" + str(len(test_data)))"
      ],
      "execution_count": null,
      "outputs": [
        {
          "output_type": "stream",
          "text": [
            "train: 94228\n",
            "test: 11778\n"
          ],
          "name": "stdout"
        }
      ]
    },
    {
      "cell_type": "code",
      "metadata": {
        "id": "ruNlUJQrQyaA"
      },
      "source": [
        "# prepare all the training data and label\n",
        "from keras.layers import LSTM\n",
        "from keras import callbacks\n",
        "from keras import layers\n",
        "from keras.models import Sequential\n",
        "\n",
        "\n",
        "train_x = []\n",
        "train_y = []\n",
        "for data in train_data:\n",
        "  train_x.append(data[:63])\n",
        "  train_y.append(int(data[63]))\n",
        "train_x = np.array(train_x)\n",
        "train_x = train_x.reshape((len(train_x), 1, len(train_x[0])))\n",
        "train_y = np.array(train_y)"
      ],
      "execution_count": null,
      "outputs": []
    },
    {
      "cell_type": "code",
      "metadata": {
        "colab": {
          "base_uri": "https://localhost:8080/"
        },
        "id": "vFTX6olxTtbE",
        "outputId": "90ad4c7a-3bcd-4197-8134-e4925b88c171"
      },
      "source": [
        "print(train_x.shape)\n",
        "print(train_y.shape)"
      ],
      "execution_count": null,
      "outputs": [
        {
          "output_type": "stream",
          "text": [
            "(94228, 1, 63)\n",
            "(94228,)\n"
          ],
          "name": "stdout"
        }
      ]
    },
    {
      "cell_type": "code",
      "metadata": {
        "id": "Hed9WRC4ejuJ"
      },
      "source": [
        "\n",
        "# function for plotting the results\n",
        "import matplotlib.pyplot as plt\n",
        "def plotting_training(history):\n",
        "  # Plot training & validation accuracy values\n",
        "  plt.plot(history.history['acc'])\n",
        "  plt.plot(history.history['val_acc'])\n",
        "  plt.title('Model accuracy')\n",
        "  plt.ylabel('Accuracy')\n",
        "  plt.xlabel('Epoch')\n",
        "  plt.legend(['Train', 'Test'])\n",
        "  plt.show()\n",
        "  # Plot training & validation loss values\n",
        "  loss = history.history['loss']\n",
        "  val_loss = history.history['val_loss']\n",
        "  epochs = range(1, len(loss) + 1)\n",
        "  plt.figure()\n",
        "  plt.plot(epochs, loss, 'bo', label=\"Train loss\")\n",
        "  plt.plot(epochs, val_loss, 'b', label='Validation loss')\n",
        "  plt.title('Training and validation loss')\n",
        "  plt.xlabel('epoch')\n",
        "  plt.ylabel('loss')\n",
        "  plt.legend()\n",
        "  plt.show()"
      ],
      "execution_count": null,
      "outputs": []
    },
    {
      "cell_type": "code",
      "metadata": {
        "id": "z8GaQntF5wTG"
      },
      "source": [
        "# this is the dynamic learning rate function\n",
        "def learningRate(epoch):\n",
        "  if epoch < 10:\n",
        "    return 0.001\n",
        "  else:\n",
        "    return 0.001 * np.exp(0.1 * (10 - epoch))"
      ],
      "execution_count": null,
      "outputs": []
    },
    {
      "cell_type": "code",
      "metadata": {
        "colab": {
          "base_uri": "https://localhost:8080/"
        },
        "id": "oCDn6SCb55Fj",
        "outputId": "f0b79e5b-abd1-4fd3-82b4-384022e87fbe"
      },
      "source": [
        "\n",
        "# we start with GRU\n",
        "model = Sequential()\n",
        "model.add(layers.Conv1D(32, 1, activation='relu', input_shape=(1, 63)))\n",
        "model.add(layers.MaxPool1D(1))\n",
        "model.add(layers.Conv1D(32, 1, activation='relu'))\n",
        "model.add(layers.GRU(32, dropout= 0.1, recurrent_dropout=0.5))\n",
        "model.add(layers.Dense(1, activation='sigmoid'))\n",
        "model.summary()\n",
        "model.compile(optimizer='rmsprop', loss='binary_crossentropy', metrics=['acc'])\n",
        "history = model.fit(train_x, train_y, epochs= 60, batch_size = 16, validation_split = 0.2, callbacks=[callbacks.EarlyStopping(monitor='acc', patience = 3), callbacks.LearningRateScheduler(learningRate)] )"
      ],
      "execution_count": null,
      "outputs": [
        {
          "output_type": "stream",
          "text": [
            "WARNING:tensorflow:Layer gru will not use cuDNN kernel since it doesn't meet the cuDNN kernel criteria. It will use generic GPU kernel as fallback when running on GPU\n",
            "Model: \"sequential\"\n",
            "_________________________________________________________________\n",
            "Layer (type)                 Output Shape              Param #   \n",
            "=================================================================\n",
            "conv1d (Conv1D)              (None, 1, 32)             2048      \n",
            "_________________________________________________________________\n",
            "max_pooling1d (MaxPooling1D) (None, 1, 32)             0         \n",
            "_________________________________________________________________\n",
            "conv1d_1 (Conv1D)            (None, 1, 32)             1056      \n",
            "_________________________________________________________________\n",
            "gru (GRU)                    (None, 32)                6336      \n",
            "_________________________________________________________________\n",
            "dense (Dense)                (None, 1)                 33        \n",
            "=================================================================\n",
            "Total params: 9,473\n",
            "Trainable params: 9,473\n",
            "Non-trainable params: 0\n",
            "_________________________________________________________________\n",
            "Epoch 1/60\n",
            "4712/4712 [==============================] - 58s 8ms/step - loss: 0.5720 - acc: 0.6857 - val_loss: 0.4857 - val_acc: 0.7621\n",
            "Epoch 2/60\n",
            "4712/4712 [==============================] - 39s 8ms/step - loss: 0.3955 - acc: 0.8235 - val_loss: 0.3239 - val_acc: 0.8615\n",
            "Epoch 3/60\n",
            "4712/4712 [==============================] - 39s 8ms/step - loss: 0.3293 - acc: 0.8579 - val_loss: 0.4063 - val_acc: 0.8203\n",
            "Epoch 4/60\n",
            "4712/4712 [==============================] - 38s 8ms/step - loss: 0.2949 - acc: 0.8774 - val_loss: 0.2994 - val_acc: 0.8744\n",
            "Epoch 5/60\n",
            "4712/4712 [==============================] - 38s 8ms/step - loss: 0.2708 - acc: 0.8877 - val_loss: 0.2391 - val_acc: 0.9068\n",
            "Epoch 6/60\n",
            "4712/4712 [==============================] - 39s 8ms/step - loss: 0.2525 - acc: 0.8967 - val_loss: 0.2266 - val_acc: 0.9108\n",
            "Epoch 7/60\n",
            "4712/4712 [==============================] - 39s 8ms/step - loss: 0.2474 - acc: 0.9004 - val_loss: 0.2369 - val_acc: 0.9073\n",
            "Epoch 8/60\n",
            "4712/4712 [==============================] - 38s 8ms/step - loss: 0.2312 - acc: 0.9094 - val_loss: 0.2277 - val_acc: 0.9114\n",
            "Epoch 9/60\n",
            "4712/4712 [==============================] - 39s 8ms/step - loss: 0.2203 - acc: 0.9137 - val_loss: 0.2082 - val_acc: 0.9163\n",
            "Epoch 10/60\n",
            "4712/4712 [==============================] - 38s 8ms/step - loss: 0.2167 - acc: 0.9171 - val_loss: 0.2591 - val_acc: 0.8988\n",
            "Epoch 11/60\n",
            "4712/4712 [==============================] - 39s 8ms/step - loss: 0.2074 - acc: 0.9207 - val_loss: 0.2085 - val_acc: 0.9208\n",
            "Epoch 12/60\n",
            "4712/4712 [==============================] - 39s 8ms/step - loss: 0.1976 - acc: 0.9238 - val_loss: 0.3882 - val_acc: 0.8629\n",
            "Epoch 13/60\n",
            "4712/4712 [==============================] - 39s 8ms/step - loss: 0.1844 - acc: 0.9317 - val_loss: 0.1697 - val_acc: 0.9384\n",
            "Epoch 14/60\n",
            "4712/4712 [==============================] - 39s 8ms/step - loss: 0.1760 - acc: 0.9345 - val_loss: 0.1665 - val_acc: 0.9365\n",
            "Epoch 15/60\n",
            "4712/4712 [==============================] - 39s 8ms/step - loss: 0.1668 - acc: 0.9394 - val_loss: 0.1596 - val_acc: 0.9433\n",
            "Epoch 16/60\n",
            "4712/4712 [==============================] - 39s 8ms/step - loss: 0.1585 - acc: 0.9428 - val_loss: 0.1710 - val_acc: 0.9375\n",
            "Epoch 17/60\n",
            "4712/4712 [==============================] - 39s 8ms/step - loss: 0.1478 - acc: 0.9476 - val_loss: 0.1432 - val_acc: 0.9488\n",
            "Epoch 18/60\n",
            "4712/4712 [==============================] - 39s 8ms/step - loss: 0.1421 - acc: 0.9504 - val_loss: 0.1425 - val_acc: 0.9534\n",
            "Epoch 19/60\n",
            "4712/4712 [==============================] - 39s 8ms/step - loss: 0.1381 - acc: 0.9518 - val_loss: 0.1400 - val_acc: 0.9540\n",
            "Epoch 20/60\n",
            "4712/4712 [==============================] - 39s 8ms/step - loss: 0.1326 - acc: 0.9534 - val_loss: 0.1242 - val_acc: 0.9590\n",
            "Epoch 21/60\n",
            "4712/4712 [==============================] - 39s 8ms/step - loss: 0.1262 - acc: 0.9568 - val_loss: 0.1250 - val_acc: 0.9595\n",
            "Epoch 22/60\n",
            "4712/4712 [==============================] - 39s 8ms/step - loss: 0.1261 - acc: 0.9572 - val_loss: 0.1303 - val_acc: 0.9573\n",
            "Epoch 23/60\n",
            "4712/4712 [==============================] - 39s 8ms/step - loss: 0.1242 - acc: 0.9583 - val_loss: 0.1294 - val_acc: 0.9561\n",
            "Epoch 24/60\n",
            "4712/4712 [==============================] - 39s 8ms/step - loss: 0.1184 - acc: 0.9609 - val_loss: 0.1163 - val_acc: 0.9623\n",
            "Epoch 25/60\n",
            "4712/4712 [==============================] - 39s 8ms/step - loss: 0.1170 - acc: 0.9622 - val_loss: 0.1180 - val_acc: 0.9630\n",
            "Epoch 26/60\n",
            "4712/4712 [==============================] - 39s 8ms/step - loss: 0.1161 - acc: 0.9622 - val_loss: 0.1119 - val_acc: 0.9654\n",
            "Epoch 27/60\n",
            "4712/4712 [==============================] - 39s 8ms/step - loss: 0.1077 - acc: 0.9649 - val_loss: 0.1179 - val_acc: 0.9616\n",
            "Epoch 28/60\n",
            "4712/4712 [==============================] - 40s 8ms/step - loss: 0.1073 - acc: 0.9654 - val_loss: 0.1141 - val_acc: 0.9637\n",
            "Epoch 29/60\n",
            "4712/4712 [==============================] - 40s 8ms/step - loss: 0.1070 - acc: 0.9657 - val_loss: 0.1082 - val_acc: 0.9666\n",
            "Epoch 30/60\n",
            "4712/4712 [==============================] - 39s 8ms/step - loss: 0.1035 - acc: 0.9669 - val_loss: 0.1140 - val_acc: 0.9639\n",
            "Epoch 31/60\n",
            "4712/4712 [==============================] - 39s 8ms/step - loss: 0.1027 - acc: 0.9678 - val_loss: 0.1103 - val_acc: 0.9658\n",
            "Epoch 32/60\n",
            "4712/4712 [==============================] - 39s 8ms/step - loss: 0.1030 - acc: 0.9676 - val_loss: 0.1180 - val_acc: 0.9625\n",
            "Epoch 33/60\n",
            "4712/4712 [==============================] - 39s 8ms/step - loss: 0.1009 - acc: 0.9682 - val_loss: 0.1068 - val_acc: 0.9679\n",
            "Epoch 34/60\n",
            "4712/4712 [==============================] - 39s 8ms/step - loss: 0.1017 - acc: 0.9676 - val_loss: 0.1126 - val_acc: 0.9652\n",
            "Epoch 35/60\n",
            "4712/4712 [==============================] - 39s 8ms/step - loss: 0.0971 - acc: 0.9695 - val_loss: 0.1169 - val_acc: 0.9634\n",
            "Epoch 36/60\n",
            "4712/4712 [==============================] - 39s 8ms/step - loss: 0.0956 - acc: 0.9702 - val_loss: 0.1045 - val_acc: 0.9684\n",
            "Epoch 37/60\n",
            "4712/4712 [==============================] - 39s 8ms/step - loss: 0.0991 - acc: 0.9692 - val_loss: 0.1088 - val_acc: 0.9675\n",
            "Epoch 38/60\n",
            "4712/4712 [==============================] - 39s 8ms/step - loss: 0.0976 - acc: 0.9698 - val_loss: 0.1041 - val_acc: 0.9690\n",
            "Epoch 39/60\n",
            "4712/4712 [==============================] - 39s 8ms/step - loss: 0.0930 - acc: 0.9723 - val_loss: 0.1072 - val_acc: 0.9687\n",
            "Epoch 40/60\n",
            "4712/4712 [==============================] - 39s 8ms/step - loss: 0.0964 - acc: 0.9709 - val_loss: 0.1015 - val_acc: 0.9701\n",
            "Epoch 41/60\n",
            "4712/4712 [==============================] - 39s 8ms/step - loss: 0.0936 - acc: 0.9717 - val_loss: 0.1038 - val_acc: 0.9707\n",
            "Epoch 42/60\n",
            "4712/4712 [==============================] - 39s 8ms/step - loss: 0.0925 - acc: 0.9718 - val_loss: 0.1020 - val_acc: 0.9709\n",
            "Epoch 43/60\n",
            "4712/4712 [==============================] - 39s 8ms/step - loss: 0.0937 - acc: 0.9715 - val_loss: 0.1008 - val_acc: 0.9701\n",
            "Epoch 44/60\n",
            "4712/4712 [==============================] - 39s 8ms/step - loss: 0.0950 - acc: 0.9711 - val_loss: 0.1004 - val_acc: 0.9709\n",
            "Epoch 45/60\n",
            "4712/4712 [==============================] - 39s 8ms/step - loss: 0.0933 - acc: 0.9720 - val_loss: 0.1037 - val_acc: 0.9701\n",
            "Epoch 46/60\n",
            "4712/4712 [==============================] - 39s 8ms/step - loss: 0.0899 - acc: 0.9725 - val_loss: 0.1015 - val_acc: 0.9712\n",
            "Epoch 47/60\n",
            "4712/4712 [==============================] - 38s 8ms/step - loss: 0.0926 - acc: 0.9722 - val_loss: 0.1005 - val_acc: 0.9719\n",
            "Epoch 48/60\n",
            "4712/4712 [==============================] - 39s 8ms/step - loss: 0.0919 - acc: 0.9724 - val_loss: 0.1011 - val_acc: 0.9711\n",
            "Epoch 49/60\n",
            "4712/4712 [==============================] - 40s 8ms/step - loss: 0.0898 - acc: 0.9721 - val_loss: 0.1029 - val_acc: 0.9709\n",
            "Epoch 50/60\n",
            "4712/4712 [==============================] - 40s 8ms/step - loss: 0.0930 - acc: 0.9723 - val_loss: 0.1000 - val_acc: 0.9717\n",
            "Epoch 51/60\n",
            "4712/4712 [==============================] - 39s 8ms/step - loss: 0.0933 - acc: 0.9719 - val_loss: 0.0996 - val_acc: 0.9718\n",
            "Epoch 52/60\n",
            "4712/4712 [==============================] - 39s 8ms/step - loss: 0.0912 - acc: 0.9730 - val_loss: 0.1009 - val_acc: 0.9711\n",
            "Epoch 53/60\n",
            "4712/4712 [==============================] - 38s 8ms/step - loss: 0.0906 - acc: 0.9727 - val_loss: 0.1016 - val_acc: 0.9712\n"
          ],
          "name": "stdout"
        }
      ]
    },
    {
      "cell_type": "code",
      "metadata": {
        "colab": {
          "base_uri": "https://localhost:8080/",
          "height": 607
        },
        "id": "qmicTF-68nSc",
        "outputId": "ad003444-c8bf-4dc5-b62b-01c05e273286"
      },
      "source": [
        "plotting_training(history)\n",
        "test_x = []\n",
        "test_y = []\n",
        "for data in test_data:\n",
        "  test_x.append(data[:63])\n",
        "  test_y.append(int(data[63]))\n",
        "test_x = np.array(test_x)\n",
        "test_x = test_x.reshape((len(test_x), 1, len(test_x[0])))\n",
        "test_y = np.array(test_y)\n",
        "results = model.evaluate(test_x, test_y, batch_size = 16)\n",
        "print(\"test loss, test acc: \", results)"
      ],
      "execution_count": null,
      "outputs": [
        {
          "output_type": "display_data",
          "data": {
            "image/png": "[encoded data removed]",
            "text/plain": [
              "<Figure size 432x288 with 1 Axes>"
            ]
          },
          "metadata": {
            "tags": [],
            "needs_background": "light"
          }
        },
        {
          "output_type": "display_data",
          "data": {
            "image/png": "[encoded data removed]",
            "text/plain": [
              "<Figure size 432x288 with 1 Axes>"
            ]
          },
          "metadata": {
            "tags": [],
            "needs_background": "light"
          }
        },
        {
          "output_type": "stream",
          "text": [
            "737/737 [==============================] - 2s 2ms/step - loss: 0.1018 - acc: 0.9715\n",
            "test loss, test acc:  [0.10177555680274963, 0.9714722633361816]\n"
          ],
          "name": "stdout"
        }
      ]
    },
    {
      "cell_type": "code",
      "metadata": {
        "id": "GQUS8QrNR6RC"
      },
      "source": [
        "model.save(\"/content/drive/MyDrive/Colab Notebooks/projectModelGRU.h5\")"
      ],
      "execution_count": null,
      "outputs": []
    },
    {
      "cell_type": "code",
      "metadata": {
        "colab": {
          "base_uri": "https://localhost:8080/"
        },
        "id": "7S4a4-w8Xxbn",
        "outputId": "ffcb54c8-04d4-46ac-d493-3ffda264db4c"
      },
      "source": [
        "\n",
        "from keras.models import Sequential\n",
        "from keras.layers import Embedding, Dense\n",
        "model = Sequential()\n",
        "model.add(LSTM(32, input_shape=(1, 63), return_sequences=True))\n",
        "model.add(LSTM(16))\n",
        "model.add(Dense(1, activation='sigmoid'))\n",
        "model.compile(optimizer='rmsprop', loss='binary_crossentropy', metrics = ['acc'])\n",
        "history = model.fit(train_x, train_y, epochs= 60, batch_size = 16, validation_split = 0.2, callbacks=[callbacks.EarlyStopping(monitor='val_loss', patience = 5), callbacks.LearningRateScheduler(learningRate)] )"
      ],
      "execution_count": null,
      "outputs": [
        {
          "output_type": "stream",
          "text": [
            "Epoch 1/60\n",
            "4712/4712 [==============================] - 27s 5ms/step - loss: 0.5813 - acc: 0.6790 - val_loss: 0.4421 - val_acc: 0.7958\n",
            "Epoch 2/60\n",
            "4712/4712 [==============================] - 23s 5ms/step - loss: 0.4346 - acc: 0.7953 - val_loss: 0.4993 - val_acc: 0.7675\n",
            "Epoch 3/60\n",
            "4712/4712 [==============================] - 24s 5ms/step - loss: 0.3815 - acc: 0.8278 - val_loss: 0.4216 - val_acc: 0.8098\n",
            "Epoch 4/60\n",
            "4712/4712 [==============================] - 24s 5ms/step - loss: 0.3426 - acc: 0.8500 - val_loss: 0.4448 - val_acc: 0.7890\n",
            "Epoch 5/60\n",
            "4712/4712 [==============================] - 24s 5ms/step - loss: 0.3115 - acc: 0.8676 - val_loss: 0.2826 - val_acc: 0.8845\n",
            "Epoch 6/60\n",
            "4712/4712 [==============================] - 24s 5ms/step - loss: 0.2865 - acc: 0.8809 - val_loss: 0.4404 - val_acc: 0.8052\n",
            "Epoch 7/60\n",
            "4712/4712 [==============================] - 24s 5ms/step - loss: 0.2683 - acc: 0.8886 - val_loss: 0.2412 - val_acc: 0.9046\n",
            "Epoch 8/60\n",
            "4712/4712 [==============================] - 24s 5ms/step - loss: 0.2527 - acc: 0.8958 - val_loss: 0.2295 - val_acc: 0.9112\n",
            "Epoch 9/60\n",
            "4712/4712 [==============================] - 23s 5ms/step - loss: 0.2356 - acc: 0.9041 - val_loss: 0.2350 - val_acc: 0.9037\n",
            "Epoch 10/60\n",
            "4712/4712 [==============================] - 23s 5ms/step - loss: 0.2218 - acc: 0.9102 - val_loss: 0.2450 - val_acc: 0.8982\n",
            "Epoch 11/60\n",
            "4712/4712 [==============================] - 24s 5ms/step - loss: 0.2068 - acc: 0.9181 - val_loss: 0.2207 - val_acc: 0.9147\n",
            "Epoch 12/60\n",
            "4712/4712 [==============================] - 23s 5ms/step - loss: 0.1888 - acc: 0.9261 - val_loss: 0.1838 - val_acc: 0.9295\n",
            "Epoch 13/60\n",
            "4712/4712 [==============================] - 24s 5ms/step - loss: 0.1832 - acc: 0.9303 - val_loss: 0.1842 - val_acc: 0.9309\n",
            "Epoch 14/60\n",
            "4712/4712 [==============================] - 24s 5ms/step - loss: 0.1701 - acc: 0.9356 - val_loss: 0.1730 - val_acc: 0.9355\n",
            "Epoch 15/60\n",
            "4712/4712 [==============================] - 23s 5ms/step - loss: 0.1622 - acc: 0.9389 - val_loss: 0.1560 - val_acc: 0.9407\n",
            "Epoch 16/60\n",
            "4712/4712 [==============================] - 24s 5ms/step - loss: 0.1504 - acc: 0.9428 - val_loss: 0.1456 - val_acc: 0.9489\n",
            "Epoch 17/60\n",
            "4712/4712 [==============================] - 24s 5ms/step - loss: 0.1452 - acc: 0.9460 - val_loss: 0.1396 - val_acc: 0.9492\n",
            "Epoch 18/60\n",
            "4712/4712 [==============================] - 24s 5ms/step - loss: 0.1373 - acc: 0.9497 - val_loss: 0.1389 - val_acc: 0.9513\n",
            "Epoch 19/60\n",
            "4712/4712 [==============================] - 23s 5ms/step - loss: 0.1350 - acc: 0.9505 - val_loss: 0.1400 - val_acc: 0.9498\n",
            "Epoch 20/60\n",
            "4712/4712 [==============================] - 23s 5ms/step - loss: 0.1269 - acc: 0.9548 - val_loss: 0.1320 - val_acc: 0.9531\n",
            "Epoch 21/60\n",
            "4712/4712 [==============================] - 24s 5ms/step - loss: 0.1259 - acc: 0.9540 - val_loss: 0.1307 - val_acc: 0.9544\n",
            "Epoch 22/60\n",
            "4712/4712 [==============================] - 23s 5ms/step - loss: 0.1210 - acc: 0.9567 - val_loss: 0.1223 - val_acc: 0.9589\n",
            "Epoch 23/60\n",
            "4712/4712 [==============================] - 24s 5ms/step - loss: 0.1177 - acc: 0.9586 - val_loss: 0.1227 - val_acc: 0.9585\n",
            "Epoch 24/60\n",
            "4712/4712 [==============================] - 23s 5ms/step - loss: 0.1156 - acc: 0.9593 - val_loss: 0.1210 - val_acc: 0.9579\n",
            "Epoch 25/60\n",
            "4712/4712 [==============================] - 23s 5ms/step - loss: 0.1139 - acc: 0.9604 - val_loss: 0.1306 - val_acc: 0.9535\n",
            "Epoch 26/60\n",
            "4712/4712 [==============================] - 24s 5ms/step - loss: 0.1098 - acc: 0.9619 - val_loss: 0.1163 - val_acc: 0.9600\n",
            "Epoch 27/60\n",
            "4712/4712 [==============================] - 23s 5ms/step - loss: 0.1088 - acc: 0.9622 - val_loss: 0.1152 - val_acc: 0.9615\n",
            "Epoch 28/60\n",
            "4712/4712 [==============================] - 24s 5ms/step - loss: 0.1070 - acc: 0.9628 - val_loss: 0.1165 - val_acc: 0.9588\n",
            "Epoch 29/60\n",
            "4712/4712 [==============================] - 24s 5ms/step - loss: 0.1034 - acc: 0.9640 - val_loss: 0.1133 - val_acc: 0.9605\n",
            "Epoch 30/60\n",
            "4712/4712 [==============================] - 24s 5ms/step - loss: 0.1067 - acc: 0.9629 - val_loss: 0.1117 - val_acc: 0.9630\n",
            "Epoch 31/60\n",
            "4712/4712 [==============================] - 24s 5ms/step - loss: 0.1045 - acc: 0.9642 - val_loss: 0.1162 - val_acc: 0.9595\n",
            "Epoch 32/60\n",
            "4712/4712 [==============================] - 23s 5ms/step - loss: 0.1032 - acc: 0.9651 - val_loss: 0.1100 - val_acc: 0.9624\n",
            "Epoch 33/60\n",
            "4712/4712 [==============================] - 23s 5ms/step - loss: 0.0971 - acc: 0.9674 - val_loss: 0.1099 - val_acc: 0.9629\n",
            "Epoch 34/60\n",
            "4712/4712 [==============================] - 24s 5ms/step - loss: 0.1006 - acc: 0.9655 - val_loss: 0.1110 - val_acc: 0.9610\n",
            "Epoch 35/60\n",
            "4712/4712 [==============================] - 23s 5ms/step - loss: 0.0991 - acc: 0.9656 - val_loss: 0.1158 - val_acc: 0.9596\n",
            "Epoch 36/60\n",
            "4712/4712 [==============================] - 23s 5ms/step - loss: 0.0968 - acc: 0.9679 - val_loss: 0.1065 - val_acc: 0.9631\n",
            "Epoch 37/60\n",
            "4712/4712 [==============================] - 24s 5ms/step - loss: 0.0994 - acc: 0.9664 - val_loss: 0.1090 - val_acc: 0.9641\n",
            "Epoch 38/60\n",
            "4712/4712 [==============================] - 24s 5ms/step - loss: 0.0975 - acc: 0.9665 - val_loss: 0.1136 - val_acc: 0.9602\n",
            "Epoch 39/60\n",
            "4712/4712 [==============================] - 25s 5ms/step - loss: 0.0972 - acc: 0.9672 - val_loss: 0.1066 - val_acc: 0.9657\n",
            "Epoch 40/60\n",
            "4712/4712 [==============================] - 24s 5ms/step - loss: 0.0939 - acc: 0.9683 - val_loss: 0.1051 - val_acc: 0.9646\n",
            "Epoch 41/60\n",
            "4712/4712 [==============================] - 24s 5ms/step - loss: 0.0941 - acc: 0.9687 - val_loss: 0.1074 - val_acc: 0.9628\n",
            "Epoch 42/60\n",
            "4712/4712 [==============================] - 23s 5ms/step - loss: 0.0941 - acc: 0.9687 - val_loss: 0.1048 - val_acc: 0.9652\n",
            "Epoch 43/60\n",
            "4712/4712 [==============================] - 24s 5ms/step - loss: 0.0940 - acc: 0.9675 - val_loss: 0.1043 - val_acc: 0.9650\n",
            "Epoch 44/60\n",
            "4712/4712 [==============================] - 24s 5ms/step - loss: 0.0950 - acc: 0.9687 - val_loss: 0.1048 - val_acc: 0.9651\n",
            "Epoch 45/60\n",
            "4712/4712 [==============================] - 24s 5ms/step - loss: 0.0939 - acc: 0.9680 - val_loss: 0.1050 - val_acc: 0.9650\n",
            "Epoch 46/60\n",
            "4712/4712 [==============================] - 24s 5ms/step - loss: 0.0907 - acc: 0.9694 - val_loss: 0.1043 - val_acc: 0.9658\n",
            "Epoch 47/60\n",
            "4712/4712 [==============================] - 24s 5ms/step - loss: 0.0920 - acc: 0.9699 - val_loss: 0.1038 - val_acc: 0.9650\n",
            "Epoch 48/60\n",
            "4712/4712 [==============================] - 23s 5ms/step - loss: 0.0943 - acc: 0.9687 - val_loss: 0.1043 - val_acc: 0.9650\n",
            "Epoch 49/60\n",
            "4712/4712 [==============================] - 24s 5ms/step - loss: 0.0931 - acc: 0.9689 - val_loss: 0.1034 - val_acc: 0.9656\n",
            "Epoch 50/60\n",
            "4712/4712 [==============================] - 24s 5ms/step - loss: 0.0903 - acc: 0.9706 - val_loss: 0.1039 - val_acc: 0.9644\n",
            "Epoch 51/60\n",
            "4712/4712 [==============================] - 24s 5ms/step - loss: 0.0916 - acc: 0.9702 - val_loss: 0.1065 - val_acc: 0.9630\n",
            "Epoch 52/60\n",
            "4712/4712 [==============================] - 23s 5ms/step - loss: 0.0943 - acc: 0.9683 - val_loss: 0.1033 - val_acc: 0.9654\n",
            "Epoch 53/60\n",
            "4712/4712 [==============================] - 23s 5ms/step - loss: 0.0929 - acc: 0.9696 - val_loss: 0.1037 - val_acc: 0.9652\n",
            "Epoch 54/60\n",
            "4712/4712 [==============================] - 24s 5ms/step - loss: 0.0909 - acc: 0.9699 - val_loss: 0.1039 - val_acc: 0.9654\n",
            "Epoch 55/60\n",
            "4712/4712 [==============================] - 23s 5ms/step - loss: 0.0928 - acc: 0.9693 - val_loss: 0.1034 - val_acc: 0.9658\n",
            "Epoch 56/60\n",
            "4712/4712 [==============================] - 24s 5ms/step - loss: 0.0942 - acc: 0.9687 - val_loss: 0.1034 - val_acc: 0.9652\n",
            "Epoch 57/60\n",
            "4712/4712 [==============================] - 23s 5ms/step - loss: 0.0935 - acc: 0.9691 - val_loss: 0.1031 - val_acc: 0.9655\n",
            "Epoch 58/60\n",
            "4712/4712 [==============================] - 23s 5ms/step - loss: 0.0886 - acc: 0.9705 - val_loss: 0.1032 - val_acc: 0.9658\n",
            "Epoch 59/60\n",
            "4712/4712 [==============================] - 24s 5ms/step - loss: 0.0940 - acc: 0.9690 - val_loss: 0.1033 - val_acc: 0.9654\n",
            "Epoch 60/60\n",
            "4712/4712 [==============================] - 23s 5ms/step - loss: 0.0946 - acc: 0.9684 - val_loss: 0.1038 - val_acc: 0.9650\n"
          ],
          "name": "stdout"
        }
      ]
    },
    {
      "cell_type": "code",
      "metadata": {
        "id": "YZfiJP0BePXv"
      },
      "source": [
        "model.save('/content/drive/MyDrive/Colab Notebooks/projectModelLSTM.h5')"
      ],
      "execution_count": null,
      "outputs": []
    },
    {
      "cell_type": "code",
      "metadata": {
        "colab": {
          "base_uri": "https://localhost:8080/",
          "height": 573
        },
        "id": "5A-Hcychb5hn",
        "outputId": "b8dcfd18-f70f-4b41-8bdd-8137f19bac69"
      },
      "source": [
        "plotting_training(history)"
      ],
      "execution_count": null,
      "outputs": [
        {
          "output_type": "display_data",
          "data": {
            "image/png": "[encoded data removed]",
            "text/plain": [
              "<Figure size 432x288 with 1 Axes>"
            ]
          },
          "metadata": {
            "tags": [],
            "needs_background": "light"
          }
        },
        {
          "output_type": "display_data",
          "data": {
            "image/png": "[encoded data removed]",
            "text/plain": [
              "<Figure size 432x288 with 1 Axes>"
            ]
          },
          "metadata": {
            "tags": [],
            "needs_background": "light"
          }
        }
      ]
    },
    {
      "cell_type": "code",
      "metadata": {
        "id": "tA1vX5M1ZcAc"
      },
      "source": [
        "test_x = []\n",
        "test_y = []\n",
        "for data in test_data:\n",
        "  test_x.append(data[:63])\n",
        "  test_y.append(int(data[63]))\n",
        "test_x = np.array(test_x)\n",
        "test_x = test_x.reshape((len(test_x), 1, len(test_x[0])))\n",
        "test_y = np.array(test_y)"
      ],
      "execution_count": null,
      "outputs": []
    },
    {
      "cell_type": "code",
      "metadata": {
        "colab": {
          "base_uri": "https://localhost:8080/"
        },
        "id": "q_9UE1jCbn9t",
        "outputId": "71ea1a72-eb85-49c3-d76c-8049f3a06a88"
      },
      "source": [
        "results = model.evaluate(test_x, test_y, batch_size = 16)\n",
        "print(\"test loss, test acc: \", results)\n"
      ],
      "execution_count": null,
      "outputs": [
        {
          "output_type": "stream",
          "text": [
            "737/737 [==============================] - 2s 2ms/step - loss: 0.1067 - acc: 0.9647\n",
            "test loss, test acc:  [0.10674462467432022, 0.9646798968315125]\n"
          ],
          "name": "stdout"
        }
      ]
    },
    {
      "cell_type": "code",
      "metadata": {
        "colab": {
          "base_uri": "https://localhost:8080/",
          "height": 1000
        },
        "id": "mcAqiBfucEoW",
        "outputId": "97c07e2c-cd23-4db3-f291-2ec0aac3cba0"
      },
      "source": [
        "\n",
        "# now we use the bidirectional\n",
        "model = Sequential()\n",
        "model.add(Bidirectional(LSTM(32, return_sequences=True), input_shape=(1, 63)))\n",
        "model.add(Bidirectional(LSTM(16, return_sequences=True)))\n",
        "model.add(Dense(1, activation='sigmoid'))\n",
        "model.compile(optimizer='rmsprop', loss='binary_crossentropy', metrics = ['acc'])\n",
        "history = model.fit(train_x, train_y, epochs= 60, batch_size = 16, validation_split = 0.2, callbacks=[callbacks.EarlyStopping(monitor='val_loss', patience = 3), callbacks.LearningRateScheduler(learningRate)] )\n",
        "\n",
        "plotting_training(history)"
      ],
      "execution_count": null,
      "outputs": [
        {
          "output_type": "stream",
          "text": [
            "Epoch 1/60\n",
            "4712/4712 [==============================] - 43s 8ms/step - loss: 0.5734 - acc: 0.6843 - val_loss: 0.4296 - val_acc: 0.8011\n",
            "Epoch 2/60\n",
            "4712/4712 [==============================] - 37s 8ms/step - loss: 0.4239 - acc: 0.8037 - val_loss: 0.4276 - val_acc: 0.7909\n",
            "Epoch 3/60\n",
            "4712/4712 [==============================] - 37s 8ms/step - loss: 0.3618 - acc: 0.8394 - val_loss: 0.3508 - val_acc: 0.8364\n",
            "Epoch 4/60\n",
            "4712/4712 [==============================] - 37s 8ms/step - loss: 0.3172 - acc: 0.8634 - val_loss: 0.3215 - val_acc: 0.8630\n",
            "Epoch 5/60\n",
            "4712/4712 [==============================] - 37s 8ms/step - loss: 0.2744 - acc: 0.8867 - val_loss: 0.2370 - val_acc: 0.9079\n",
            "Epoch 6/60\n",
            "4712/4712 [==============================] - 37s 8ms/step - loss: 0.2506 - acc: 0.8963 - val_loss: 0.3651 - val_acc: 0.8361\n",
            "Epoch 7/60\n",
            "4712/4712 [==============================] - 37s 8ms/step - loss: 0.2265 - acc: 0.9075 - val_loss: 0.2268 - val_acc: 0.9056\n",
            "Epoch 8/60\n",
            "4712/4712 [==============================] - 37s 8ms/step - loss: 0.2073 - acc: 0.9159 - val_loss: 0.2354 - val_acc: 0.9060\n",
            "Epoch 9/60\n",
            "4712/4712 [==============================] - 37s 8ms/step - loss: 0.1846 - acc: 0.9265 - val_loss: 0.1988 - val_acc: 0.9161\n",
            "Epoch 10/60\n",
            "4712/4712 [==============================] - 37s 8ms/step - loss: 0.1701 - acc: 0.9338 - val_loss: 0.1931 - val_acc: 0.9252\n",
            "Epoch 11/60\n",
            "4712/4712 [==============================] - 37s 8ms/step - loss: 0.1541 - acc: 0.9405 - val_loss: 0.2602 - val_acc: 0.8879\n",
            "Epoch 12/60\n",
            "4712/4712 [==============================] - 37s 8ms/step - loss: 0.1421 - acc: 0.9473 - val_loss: 0.1354 - val_acc: 0.9494\n",
            "Epoch 13/60\n",
            "4712/4712 [==============================] - 37s 8ms/step - loss: 0.1231 - acc: 0.9543 - val_loss: 0.1256 - val_acc: 0.9561\n",
            "Epoch 14/60\n",
            "4712/4712 [==============================] - 37s 8ms/step - loss: 0.1154 - acc: 0.9587 - val_loss: 0.0996 - val_acc: 0.9682\n",
            "Epoch 15/60\n",
            "4712/4712 [==============================] - 37s 8ms/step - loss: 0.1040 - acc: 0.9627 - val_loss: 0.0981 - val_acc: 0.9668\n",
            "Epoch 16/60\n",
            "4712/4712 [==============================] - 37s 8ms/step - loss: 0.0968 - acc: 0.9655 - val_loss: 0.1040 - val_acc: 0.9635\n",
            "Epoch 17/60\n",
            "4712/4712 [==============================] - 37s 8ms/step - loss: 0.0880 - acc: 0.9692 - val_loss: 0.1035 - val_acc: 0.9653\n",
            "Epoch 18/60\n",
            "4712/4712 [==============================] - 37s 8ms/step - loss: 0.0858 - acc: 0.9702 - val_loss: 0.0814 - val_acc: 0.9738\n",
            "Epoch 19/60\n",
            "4712/4712 [==============================] - 37s 8ms/step - loss: 0.0791 - acc: 0.9728 - val_loss: 0.0964 - val_acc: 0.9649\n",
            "Epoch 20/60\n",
            "4712/4712 [==============================] - 37s 8ms/step - loss: 0.0753 - acc: 0.9753 - val_loss: 0.0815 - val_acc: 0.9724\n",
            "Epoch 21/60\n",
            "4712/4712 [==============================] - 37s 8ms/step - loss: 0.0722 - acc: 0.9762 - val_loss: 0.0808 - val_acc: 0.9740\n",
            "Epoch 22/60\n",
            "4712/4712 [==============================] - 37s 8ms/step - loss: 0.0689 - acc: 0.9773 - val_loss: 0.0804 - val_acc: 0.9746\n",
            "Epoch 23/60\n",
            "4712/4712 [==============================] - 37s 8ms/step - loss: 0.0662 - acc: 0.9785 - val_loss: 0.0712 - val_acc: 0.9761\n",
            "Epoch 24/60\n",
            "4712/4712 [==============================] - 37s 8ms/step - loss: 0.0633 - acc: 0.9797 - val_loss: 0.0778 - val_acc: 0.9735\n",
            "Epoch 25/60\n",
            "4712/4712 [==============================] - 37s 8ms/step - loss: 0.0624 - acc: 0.9801 - val_loss: 0.0674 - val_acc: 0.9778\n",
            "Epoch 26/60\n",
            "4712/4712 [==============================] - 37s 8ms/step - loss: 0.0614 - acc: 0.9805 - val_loss: 0.0828 - val_acc: 0.9720\n",
            "Epoch 27/60\n",
            "4712/4712 [==============================] - 37s 8ms/step - loss: 0.0585 - acc: 0.9820 - val_loss: 0.0694 - val_acc: 0.9771\n",
            "Epoch 28/60\n",
            "4712/4712 [==============================] - 37s 8ms/step - loss: 0.0592 - acc: 0.9816 - val_loss: 0.0756 - val_acc: 0.9751\n"
          ],
          "name": "stdout"
        },
        {
          "output_type": "display_data",
          "data": {
            "image/png": "[encoded data removed]",
            "text/plain": [
              "<Figure size 432x288 with 1 Axes>"
            ]
          },
          "metadata": {
            "tags": [],
            "needs_background": "light"
          }
        },
        {
          "output_type": "display_data",
          "data": {
            "image/png": "[encoded data removed]",
            "text/plain": [
              "<Figure size 432x288 with 1 Axes>"
            ]
          },
          "metadata": {
            "tags": [],
            "needs_background": "light"
          }
        }
      ]
    },
    {
      "cell_type": "code",
      "metadata": {
        "colab": {
          "base_uri": "https://localhost:8080/"
        },
        "id": "kgje3BLdeuyP",
        "outputId": "2ce7ed95-534b-4789-90b4-4882c06d3cdf"
      },
      "source": [
        "results = model.evaluate(test_x, test_y, batch_size = 16)\n",
        "print(\"test loss, test acc: \", results)\n",
        "model.save(\"/content/drive/MyDrive/Colab Notebooks/projectModelBILSTM.h5\")"
      ],
      "execution_count": null,
      "outputs": [
        {
          "output_type": "stream",
          "text": [
            "737/737 [==============================] - 3s 3ms/step - loss: 0.0745 - acc: 0.9761\n",
            "test loss, test acc:  [0.07452072948217392, 0.9761419892311096]\n"
          ],
          "name": "stdout"
        }
      ]
    },
    {
      "cell_type": "code",
      "metadata": {
        "colab": {
          "base_uri": "https://localhost:8080/"
        },
        "id": "NVhbnxU-pozA",
        "outputId": "3677817c-63bf-40ff-95c1-5fe4045e59a5"
      },
      "source": [
        "# next we try the CNN\n",
        "#create model\n",
        "# we first reshape our data\n",
        "train_x = []\n",
        "train_y = []\n",
        "for data in train_data:\n",
        "  train_x.append(data[:63])\n",
        "  train_y.append(int(data[63]))\n",
        "train_x = np.array(train_x)\n",
        "train_x = train_x.reshape((len(train_x), 3, int(len(train_x[0])/3), 1))\n",
        "train_y = np.array(train_y)\n",
        "print(\"shape of input data: \", train_x.shape)\n",
        "\n",
        "test_x = []\n",
        "test_y = []\n",
        "for data in test_data:\n",
        "  test_x.append(data[:63])\n",
        "  test_y.append(int(data[63]))\n",
        "test_x = np.array(test_x)\n",
        "test_x = test_x.reshape((len(test_x), 3, int(len(test_x[0])/3), 1))\n",
        "test_y = np.array(test_y)"
      ],
      "execution_count": null,
      "outputs": [
        {
          "output_type": "stream",
          "text": [
            "shape of input data:  (94228, 3, 21, 1)\n"
          ],
          "name": "stdout"
        }
      ]
    },
    {
      "cell_type": "code",
      "metadata": {
        "colab": {
          "base_uri": "https://localhost:8080/",
          "height": 1000
        },
        "id": "kergnUS2rc8s",
        "outputId": "ffacb173-beb6-4331-c2d6-8dcca903d311"
      },
      "source": [
        "model = Sequential()\n",
        "model.add(layers.Conv2D(64, \n",
        "                  kernel_size=3, \n",
        "                  activation='relu', \n",
        "                  input_shape=(3,21,1), \n",
        "                  padding='same'))\n",
        "model.add(layers.BatchNormalization(1))\n",
        "model.add(layers.Conv2D(64, \n",
        "                  kernel_size=3, \n",
        "                  activation='relu', \n",
        "                  padding='same'))\n",
        "model.add(layers.BatchNormalization(1))\n",
        "model.add(layers.MaxPooling2D(2,2))\n",
        "model.add(layers.Flatten())\n",
        "model.add(Dense(512, activation = 'relu')) \n",
        "model.add(Dense(1, activation='sigmoid'))\n",
        "model.compile(optimizer='rmsprop', loss='binary_crossentropy', metrics = ['acc'])\n",
        "history = model.fit(train_x, train_y, epochs= 60, batch_size = 16, validation_split = 0.2, callbacks=[callbacks.EarlyStopping(monitor='val_loss', patience = 5), callbacks.LearningRateScheduler(learningRate)] )\n",
        "plotting_training(history)"
      ],
      "execution_count": null,
      "outputs": [
        {
          "output_type": "stream",
          "text": [
            "Epoch 1/60\n",
            "4712/4712 [==============================] - 42s 5ms/step - loss: 0.4565 - acc: 0.7900 - val_loss: 0.1652 - val_acc: 0.9338\n",
            "Epoch 2/60\n",
            "4712/4712 [==============================] - 26s 6ms/step - loss: 0.1476 - acc: 0.9459 - val_loss: 0.0896 - val_acc: 0.9702\n",
            "Epoch 3/60\n",
            "4712/4712 [==============================] - 25s 5ms/step - loss: 0.0951 - acc: 0.9667 - val_loss: 0.0757 - val_acc: 0.9710\n",
            "Epoch 4/60\n",
            "4712/4712 [==============================] - 26s 5ms/step - loss: 0.0724 - acc: 0.9765 - val_loss: 0.0452 - val_acc: 0.9862\n",
            "Epoch 5/60\n",
            "4712/4712 [==============================] - 25s 5ms/step - loss: 0.0557 - acc: 0.9822 - val_loss: 0.0382 - val_acc: 0.9886\n",
            "Epoch 6/60\n",
            "4712/4712 [==============================] - 26s 5ms/step - loss: 0.0453 - acc: 0.9858 - val_loss: 0.0391 - val_acc: 0.9903\n",
            "Epoch 7/60\n",
            "4712/4712 [==============================] - 25s 5ms/step - loss: 0.0389 - acc: 0.9874 - val_loss: 0.0437 - val_acc: 0.9871\n",
            "Epoch 8/60\n",
            "4712/4712 [==============================] - 25s 5ms/step - loss: 0.0336 - acc: 0.9898 - val_loss: 0.0465 - val_acc: 0.9878\n",
            "Epoch 9/60\n",
            "4712/4712 [==============================] - 25s 5ms/step - loss: 0.0274 - acc: 0.9915 - val_loss: 0.0318 - val_acc: 0.9920\n",
            "Epoch 10/60\n",
            "4712/4712 [==============================] - 26s 6ms/step - loss: 0.0279 - acc: 0.9917 - val_loss: 0.0423 - val_acc: 0.9883\n",
            "Epoch 11/60\n",
            "4712/4712 [==============================] - 27s 6ms/step - loss: 0.0223 - acc: 0.9931 - val_loss: 0.0299 - val_acc: 0.9913\n",
            "Epoch 12/60\n",
            "4712/4712 [==============================] - 26s 6ms/step - loss: 0.0185 - acc: 0.9944 - val_loss: 0.0285 - val_acc: 0.9926\n",
            "Epoch 13/60\n",
            "4712/4712 [==============================] - 26s 5ms/step - loss: 0.0137 - acc: 0.9963 - val_loss: 0.0302 - val_acc: 0.9929\n",
            "Epoch 14/60\n",
            "4712/4712 [==============================] - 26s 6ms/step - loss: 0.0138 - acc: 0.9961 - val_loss: 0.0217 - val_acc: 0.9956\n",
            "Epoch 15/60\n",
            "4712/4712 [==============================] - 25s 5ms/step - loss: 0.0110 - acc: 0.9971 - val_loss: 0.0302 - val_acc: 0.9941\n",
            "Epoch 16/60\n",
            "4712/4712 [==============================] - 26s 5ms/step - loss: 0.0097 - acc: 0.9974 - val_loss: 0.0240 - val_acc: 0.9952\n",
            "Epoch 17/60\n",
            "4712/4712 [==============================] - 26s 6ms/step - loss: 0.0086 - acc: 0.9978 - val_loss: 0.0211 - val_acc: 0.9961\n",
            "Epoch 18/60\n",
            "4712/4712 [==============================] - 26s 5ms/step - loss: 0.0082 - acc: 0.9981 - val_loss: 0.0257 - val_acc: 0.9956\n",
            "Epoch 19/60\n",
            "4712/4712 [==============================] - 27s 6ms/step - loss: 0.0080 - acc: 0.9981 - val_loss: 0.0298 - val_acc: 0.9947\n",
            "Epoch 20/60\n",
            "4712/4712 [==============================] - 26s 6ms/step - loss: 0.0060 - acc: 0.9986 - val_loss: 0.0396 - val_acc: 0.9938\n",
            "Epoch 21/60\n",
            "4712/4712 [==============================] - 26s 5ms/step - loss: 0.0061 - acc: 0.9984 - val_loss: 0.0319 - val_acc: 0.9944\n",
            "Epoch 22/60\n",
            "4712/4712 [==============================] - 25s 5ms/step - loss: 0.0053 - acc: 0.9989 - val_loss: 0.0255 - val_acc: 0.9956\n"
          ],
          "name": "stdout"
        },
        {
          "output_type": "display_data",
          "data": {
            "image/png": "[encoded data removed]",
            "text/plain": [
              "<Figure size 432x288 with 1 Axes>"
            ]
          },
          "metadata": {
            "tags": [],
            "needs_background": "light"
          }
        },
        {
          "output_type": "display_data",
          "data": {
            "image/png": "[encoded data removed]",
            "text/plain": [
              "<Figure size 432x288 with 1 Axes>"
            ]
          },
          "metadata": {
            "tags": [],
            "needs_background": "light"
          }
        }
      ]
    },
    {
      "cell_type": "code",
      "metadata": {
        "id": "ID6yopikqpwP",
        "colab": {
          "base_uri": "https://localhost:8080/"
        },
        "outputId": "0478a51a-9c90-464d-edff-9e74a034bd7c"
      },
      "source": [
        "results = model.evaluate(test_x, test_y, batch_size = 16)\n",
        "print(\"test loss, test acc: \", results)\n",
        "model.save(\"/content/drive/MyDrive/Colab Notebooks/projectModelCNN.h5\")"
      ],
      "execution_count": null,
      "outputs": [
        {
          "output_type": "stream",
          "text": [
            "737/737 [==============================] - 2s 3ms/step - loss: 0.0219 - acc: 0.9968\n",
            "test loss, test acc:  [0.02194555662572384, 0.9967736601829529]\n"
          ],
          "name": "stdout"
        }
      ]
    },
    {
      "cell_type": "code",
      "metadata": {
        "id": "iiguSlB6LZtM"
      },
      "source": [
        "# let's try XGBoost\n",
        "from xgboost import XGBClassifier\n",
        "from sklearn.model_selection import train_test_split\n",
        "from sklearn.metrics import accuracy_score\n",
        "\n",
        "X = newData.iloc[:, :-1]\n",
        "Y = newData.iloc[:, -1]\n",
        "test_size = 0.3333\n",
        "\n",
        "x_train, x_test, y_train, y_test = train_test_split(X, Y, test_size=test_size,random_state=7)\n"
      ],
      "execution_count": null,
      "outputs": []
    },
    {
      "cell_type": "code",
      "metadata": {
        "id": "DeOou29FM1Q9"
      },
      "source": [
        "model = XGBClassifier(n_estimators=500, max_depth=5, learning_rate=0.1, verbosity=1, reg_lambda=5, random_state=7)\n",
        "model.fit(x_train, y_train,  verbose=True)\n",
        "y_pred = model.predict(x_test)"
      ],
      "execution_count": null,
      "outputs": []
    },
    {
      "cell_type": "code",
      "metadata": {
        "colab": {
          "base_uri": "https://localhost:8080/"
        },
        "id": "JKgtfwfINcZQ",
        "outputId": "b1a74671-f374-48dc-83c6-bcc2aa440d27"
      },
      "source": [
        "from sklearn.metrics import accuracy_score\n",
        "predictions = [round(value) for value in y_pred]\n",
        "accuracy = accuracy_score(y_test, predictions)\n",
        "print(\"Accuracy: %.2f%%\" % (accuracy * 100.0))"
      ],
      "execution_count": null,
      "outputs": [
        {
          "output_type": "stream",
          "text": [
            "Accuracy: 99.56%\n"
          ],
          "name": "stdout"
        }
      ]
    },
    {
      "cell_type": "code",
      "metadata": {
        "id": "80UDw_CESrVP"
      },
      "source": [
        "model.save_model(\"/content/drive/MyDrive/Colab Notebooks/projectXGB.h5\")"
      ],
      "execution_count": null,
      "outputs": []
    },
    {
      "cell_type": "code",
      "metadata": {
        "colab": {
          "base_uri": "https://localhost:8080/",
          "height": 575
        },
        "id": "g_IZp8dTXS2F",
        "outputId": "ba92342d-c408-4a78-d3fa-bd166a2a4a33"
      },
      "source": [
        "from xgboost import plot_tree\n",
        "plot_tree(model, num_trees=10)"
      ],
      "execution_count": null,
      "outputs": [
        {
          "output_type": "error",
          "ename": "ValueError",
          "evalue": "ignored",
          "traceback": [
            "\u001b[0;31m---------------------------------------------------------------------------\u001b[0m",
            "\u001b[0;31mValueError\u001b[0m                                Traceback (most recent call last)",
            "\u001b[0;32m<ipython-input-34-0619ffc7507c>\u001b[0m in \u001b[0;36m<module>\u001b[0;34m()\u001b[0m\n\u001b[1;32m      1\u001b[0m \u001b[0;32mfrom\u001b[0m \u001b[0mxgboost\u001b[0m \u001b[0;32mimport\u001b[0m \u001b[0mplot_tree\u001b[0m\u001b[0;34m\u001b[0m\u001b[0;34m\u001b[0m\u001b[0m\n\u001b[0;32m----> 2\u001b[0;31m \u001b[0mplot_tree\u001b[0m\u001b[0;34m(\u001b[0m\u001b[0mmodel\u001b[0m\u001b[0;34m,\u001b[0m \u001b[0mnum_trees\u001b[0m\u001b[0;34m=\u001b[0m\u001b[0;36m10\u001b[0m\u001b[0;34m)\u001b[0m\u001b[0;34m\u001b[0m\u001b[0;34m\u001b[0m\u001b[0m\n\u001b[0m",
            "\u001b[0;32m/usr/local/lib/python3.7/dist-packages/xgboost/plotting.py\u001b[0m in \u001b[0;36mplot_tree\u001b[0;34m(booster, fmap, num_trees, rankdir, ax, **kwargs)\u001b[0m\n\u001b[1;32m    276\u001b[0m \u001b[0;34m\u001b[0m\u001b[0m\n\u001b[1;32m    277\u001b[0m     g = to_graphviz(booster, fmap=fmap, num_trees=num_trees,\n\u001b[0;32m--> 278\u001b[0;31m                     rankdir=rankdir, **kwargs)\n\u001b[0m\u001b[1;32m    279\u001b[0m \u001b[0;34m\u001b[0m\u001b[0m\n\u001b[1;32m    280\u001b[0m     \u001b[0ms\u001b[0m \u001b[0;34m=\u001b[0m \u001b[0mBytesIO\u001b[0m\u001b[0;34m(\u001b[0m\u001b[0;34m)\u001b[0m\u001b[0;34m\u001b[0m\u001b[0;34m\u001b[0m\u001b[0m\n",
            "\u001b[0;32m/usr/local/lib/python3.7/dist-packages/xgboost/plotting.py\u001b[0m in \u001b[0;36mto_graphviz\u001b[0;34m(booster, fmap, num_trees, rankdir, yes_color, no_color, condition_node_params, leaf_node_params, **kwargs)\u001b[0m\n\u001b[1;32m    231\u001b[0m             node = _parse_node(\n\u001b[1;32m    232\u001b[0m                 \u001b[0mgraph\u001b[0m\u001b[0;34m,\u001b[0m \u001b[0mtext\u001b[0m\u001b[0;34m,\u001b[0m \u001b[0mcondition_node_params\u001b[0m\u001b[0;34m=\u001b[0m\u001b[0mcondition_node_params\u001b[0m\u001b[0;34m,\u001b[0m\u001b[0;34m\u001b[0m\u001b[0;34m\u001b[0m\u001b[0m\n\u001b[0;32m--> 233\u001b[0;31m                 leaf_node_params=leaf_node_params)\n\u001b[0m\u001b[1;32m    234\u001b[0m         \u001b[0;32melse\u001b[0m\u001b[0;34m:\u001b[0m\u001b[0;34m\u001b[0m\u001b[0;34m\u001b[0m\u001b[0m\n\u001b[1;32m    235\u001b[0m             \u001b[0;32mif\u001b[0m \u001b[0mi\u001b[0m \u001b[0;34m==\u001b[0m \u001b[0;36m0\u001b[0m\u001b[0;34m:\u001b[0m\u001b[0;34m\u001b[0m\u001b[0;34m\u001b[0m\u001b[0m\n",
            "\u001b[0;32m/usr/local/lib/python3.7/dist-packages/xgboost/plotting.py\u001b[0m in \u001b[0;36m_parse_node\u001b[0;34m(graph, text, condition_node_params, leaf_node_params)\u001b[0m\n\u001b[1;32m    136\u001b[0m         \u001b[0mgraph\u001b[0m\u001b[0;34m.\u001b[0m\u001b[0mnode\u001b[0m\u001b[0;34m(\u001b[0m\u001b[0mnode\u001b[0m\u001b[0;34m,\u001b[0m \u001b[0mlabel\u001b[0m\u001b[0;34m=\u001b[0m\u001b[0mmatch\u001b[0m\u001b[0;34m.\u001b[0m\u001b[0mgroup\u001b[0m\u001b[0;34m(\u001b[0m\u001b[0;36m2\u001b[0m\u001b[0;34m)\u001b[0m\u001b[0;34m,\u001b[0m \u001b[0;34m**\u001b[0m\u001b[0mleaf_node_params\u001b[0m\u001b[0;34m)\u001b[0m\u001b[0;34m\u001b[0m\u001b[0;34m\u001b[0m\u001b[0m\n\u001b[1;32m    137\u001b[0m         \u001b[0;32mreturn\u001b[0m \u001b[0mnode\u001b[0m\u001b[0;34m\u001b[0m\u001b[0;34m\u001b[0m\u001b[0m\n\u001b[0;32m--> 138\u001b[0;31m     \u001b[0;32mraise\u001b[0m \u001b[0mValueError\u001b[0m\u001b[0;34m(\u001b[0m\u001b[0;34m'Unable to parse node: {0}'\u001b[0m\u001b[0;34m.\u001b[0m\u001b[0mformat\u001b[0m\u001b[0;34m(\u001b[0m\u001b[0mtext\u001b[0m\u001b[0;34m)\u001b[0m\u001b[0;34m)\u001b[0m\u001b[0;34m\u001b[0m\u001b[0;34m\u001b[0m\u001b[0m\n\u001b[0m\u001b[1;32m    139\u001b[0m \u001b[0;34m\u001b[0m\u001b[0m\n\u001b[1;32m    140\u001b[0m \u001b[0;34m\u001b[0m\u001b[0m\n",
            "\u001b[0;31mValueError\u001b[0m: Unable to parse node: 7:[4"
          ]
        },
        {
          "output_type": "display_data",
          "data": {
            "image/png": "[encoded data removed]",
            "text/plain": [
              "<Figure size 432x288 with 1 Axes>"
            ]
          },
          "metadata": {
            "tags": [],
            "needs_background": "light"
          }
        }
      ]
    },
    {
      "cell_type": "code",
      "metadata": {
        "id": "pQP-7GD-wbPf"
      },
      "source": [
        ""
      ],
      "execution_count": null,
      "outputs": []
    }
  ]
}